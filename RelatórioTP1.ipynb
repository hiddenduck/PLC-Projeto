{
 "cells": [
  {
   "cell_type": "markdown",
   "id": "fac41256-f5a7-4992-98ba-02d717c46be6",
   "metadata": {},
   "source": [
    "# Processamento de Linguagens e Compiladores\n",
    "\n",
    "## Licenciatura em Ciências da Computação\n",
    "\n",
    "## Trabalho Prático 1 - Relatório de Desenvolvimento\n",
    "\n",
    "André Lucena Ribas Ferreira (A94956)\n",
    "\n",
    "Carlos Eduardo da Silva Machado (A96936)¶\n",
    "\n",
    "Gonçalo Manuel Maia de Sousa (A97485)"
   ]
  },
  {
   "cell_type": "markdown",
   "id": "01107863-8d1b-4f1d-8983-fbe0d00199f6",
   "metadata": {},
   "source": [
    "## Introdução\n",
    "\n",
    "### Resumo\n",
    "\n",
    "O presente Relatório tem como objetivo apresentar a nossa solução para o Trabalho Prático 1 da Unidade Curricular de Processamento de Linguagens e Compiladores. Especificamente, demonstramos a conceção de duas soluções para o Problema 5 \"Ficheiros CSV com listas e funções de agregação\", onde se procura converter um ficheiro do tipo CSV para JSON. A primeira solução utiliza reduzidamente o módulo *re*, suportando-se no Python e nas suas ferramentas, enquanto que a segunda procura maximizar o uso de expressões regulares e das funções desse mesmo módulo.\n",
    "\n",
    "### Estrutura"
   ]
  },
  {
   "cell_type": "markdown",
   "id": "62542d55-5cde-48eb-a0b0-5690632036cd",
   "metadata": {},
   "source": [
    "## Especificação do Problema\n",
    "\n",
    "### Análise\n",
    "\n",
    "### Definição dos Requisitos"
   ]
  },
  {
   "cell_type": "markdown",
   "id": "46a2ae83-0e63-4a87-91d5-6cb565fd36d7",
   "metadata": {},
   "source": [
    "## Resolução"
   ]
  },
  {
   "cell_type": "markdown",
   "id": "78b217fd",
   "metadata": {},
   "source": [
    "Para resolver o Problema de acordo com os Requisitos enunciados, as seguintes linhas de código são comuns para ambos as soluções. \n",
    "\n",
    "Utilizaremos o módulo 're', que oferece operações de matching de expressões regulares em python."
   ]
  },
  {
   "cell_type": "code",
   "execution_count": 1,
   "id": "151d388d",
   "metadata": {},
   "outputs": [],
   "source": [
    "import re\n",
    "from pprint import pprint"
   ]
  },
  {
   "cell_type": "markdown",
   "id": "1e6852d2",
   "metadata": {},
   "source": [
    "De seguida, obtemos o ficheiro de input do utilizador, do tipo CSV."
   ]
  },
  {
   "cell_type": "code",
   "execution_count": 2,
   "id": "7a930d61",
   "metadata": {},
   "outputs": [],
   "source": [
    "filename = 'teste1.csv'#input(\"introduza o ficheiro de input:\")\n",
    "input = open(filename, \"r\", encoding=\"utf-8\")"
   ]
  },
  {
   "cell_type": "markdown",
   "id": "e26a23ef",
   "metadata": {},
   "source": [
    "O primeiro passo de ambas as soluções é o de interpretar a primeira linha, de modo a conseguir uma caracterização das colunas que fazem parte do ficheiro. Para tal, construimos uma expressão regular que, com a utilização de grupos e da interação da função *findall* com esses mesmos grupos, nos devolve uma lista que define completamente cada uma das colunas.\n",
    "\n",
    "Mais precisamente, cada entrada da lista é um tuplo com 4 componentes, todas do tipo *string*. A presença dos três últimos é facultativa e indica se a coluna tem elemento mínimo, se forma uma lista e qual o seu elemento máximo, e se tem uma função aplicada.\n",
    " 1. Título; \n",
    " 2. Número mínimo de elementos da lista; \n",
    " 3. Número máximo de elementos da lista; \n",
    " 4. Função aplicada à lista.\n",
    "\n",
    "A expressão regular começa por definir uma palavra obrigatória **([^{,]+)** , capturada no primeiro grupo, que é o Título da coluna. Nesta parte, utiliza-se parênteses retos com acento circunflexo para denotar qualquer letra que não as especificadas, nomeadamente chaveta esquerda e vírgula, e depois um operador para repetir, pelo menos uma vez, essas letras.\n",
    "\n",
    "De seguida, definimos dois blocos facultativos, utilizando o operador **(?:)** para não capturar os grupos definidos pelos parênteses necessários para o operador **?** que os torna opcionais. O primeiro representa as listas, onde pelo menos um número é garantido, definido de tal modo a pertencer ao grupo 3, capturando no grupo 2 o valor mínimo se existente. O segundo representa a função, cuja designação encontra-se capturada no grupo 4."
   ]
  },
  {
   "cell_type": "code",
   "execution_count": 3,
   "id": "15e32745",
   "metadata": {},
   "outputs": [
    {
     "name": "stdout",
     "output_type": "stream",
     "text": [
      "[('Número', '', '', ''),\n",
      " ('Nome', '', '', ''),\n",
      " ('Curso', '', '', ''),\n",
      " ('Notas', '', '5', 'sum'),\n",
      " ('Pokemon', '', '', ''),\n",
      " ('ListaSadakaNoFun', '2', '3', '')]\n"
     ]
    }
   ],
   "source": [
    "primeira = input.readline()[:-1]\n",
    "colunas = re.findall(r'([^{,]+)(?:{(?:(\\d+),)?(\\d+)})?(?:::([^,]+))?', primeira)\n",
    "pprint(colunas)"
   ]
  },
  {
   "cell_type": "markdown",
   "id": "f4f8f518",
   "metadata": {},
   "source": [
    "### Solução 2"
   ]
  },
  {
   "cell_type": "markdown",
   "id": "cbb7bfa1-ff78-419e-9fe0-95b42051ec4a",
   "metadata": {},
   "source": []
  },
  {
   "cell_type": "code",
   "execution_count": 4,
   "id": "95ad34a0",
   "metadata": {},
   "outputs": [],
   "source": [
    "patern = fun_str = r''\n",
    "replace = '\\t{\\n'"
   ]
  },
  {
   "cell_type": "markdown",
   "id": "058aa067",
   "metadata": {},
   "source": []
  },
  {
   "cell_type": "code",
   "execution_count": 5,
   "id": "6b3c6191",
   "metadata": {},
   "outputs": [
    {
     "name": "stdout",
     "output_type": "stream",
     "text": [
      "([^{,]+),([^{,]+),([^{,]+),([^,]+(?:,[^,]+){4,4}),{0,0},([^{,]+),([^,]+(?:,[^,]+){1,2}),{0,1},\n"
     ]
    }
   ],
   "source": [
    "#colunas: 0 -> título; 1->min/único; 2->max; 3->função\n",
    "for i,coluna in enumerate(colunas, start=1):\n",
    "    if coluna[2] == '':\n",
    "        patern += r'([^{,]+),'    \n",
    "        replace += '\\t\\t\"%s\": \"\\%d\",\\n' % (coluna[0],i)\n",
    "    else:\n",
    "        max = int(coluna[2])\n",
    "        min = max if coluna[1] == '' else int(coluna[1])\n",
    "        patern += r'([^,]+(?:,[^,]+){%d,%d}),{0,%d},' % (min-1, max-1, max - min)\n",
    "        if coluna[3] != '':\n",
    "            fun_str += r'%s|' % (coluna[3])\n",
    "            replace += '\\t\\t\"%s_%s\": %s([\\%d]),\\n' % (coluna[0],coluna[3],coluna[3],i)\n",
    "        else:\n",
    "            replace += '\\t\\t\"%s\": [\\%d],\\n' % (coluna[0],i)\n",
    "\n",
    "print(patern)"
   ]
  },
  {
   "cell_type": "markdown",
   "id": "6dee8a88",
   "metadata": {},
   "source": []
  },
  {
   "cell_type": "code",
   "execution_count": 6,
   "id": "89de5435",
   "metadata": {},
   "outputs": [],
   "source": [
    "patern = patern[:-1]\n",
    "replace = re.sub(r',\\n$', '\\n\\t},\\n', replace) #replace = replace[:-2] + '\\n\\t},\\n'\n",
    "fun_str = fun_str[:-1]"
   ]
  },
  {
   "cell_type": "markdown",
   "id": "4287a5cc",
   "metadata": {},
   "source": []
  },
  {
   "cell_type": "code",
   "execution_count": 7,
   "id": "21d0acc7",
   "metadata": {},
   "outputs": [],
   "source": [
    "res = '[\\n'\n",
    "for linha in input:\n",
    "    linha = linha[:-1]\n",
    "    #print(linha)\n",
    "    res += re.sub(patern,replace,linha)\n",
    "\n",
    "res = re.sub(r'(((?:%s))\\(.*\\))'%(fun_str), lambda x: str(eval(x.group(1))),res)\n",
    "res = re.sub(r',\\n$', '\\n]', res)#res = res[:-2] + \"\\n]\""
   ]
  },
  {
   "cell_type": "code",
   "execution_count": 8,
   "id": "b4158bfb",
   "metadata": {},
   "outputs": [
    {
     "name": "stdout",
     "output_type": "stream",
     "text": [
      "[\n",
      "\t{\n",
      "\t\t\"Número\": \"3162\",\n",
      "\t\t\"Nome\": \"Cândido Faísca\",\n",
      "\t\t\"Curso\": \"Teatro\",\n",
      "\t\t\"Notas_sum\": 50,\n",
      "\t\t\"Pokemon\": \"Giratina\",\n",
      "\t\t\"ListaSadakaNoFun\": [1,2]\n",
      "\t},\n",
      "\t{\n",
      "\t\t\"Número\": \"7777\",\n",
      "\t\t\"Nome\": \"Cristiano Ronaldo\",\n",
      "\t\t\"Curso\": \"Desporto\",\n",
      "\t\t\"Notas_sum\": 46,\n",
      "\t\t\"Pokemon\": \"Garbodor\",\n",
      "\t\t\"ListaSadakaNoFun\": [3,4,5]\n",
      "\t},\n",
      "\t{\n",
      "\t\t\"Número\": \"264\",\n",
      "\t\t\"Nome\": \"Marcelo Sousa\",\n",
      "\t\t\"Curso\": \"Ciência Política\",\n",
      "\t\t\"Notas_sum\": 42,\n",
      "\t\t\"Pokemon\": \"Vanilux\",\n",
      "\t\t\"ListaSadakaNoFun\": [5,6]\n",
      "\t}\n",
      "]\n"
     ]
    }
   ],
   "source": [
    "input.close()\n",
    "\n",
    "filename = re.sub(r'csv',r'json',filename)\n",
    "\n",
    "output = open(filename, 'w', encoding=\"utf-8\")\n",
    "\n",
    "print(res) #remover depois ou não \n",
    "\n",
    "output.write(res)\n",
    "output.close()"
   ]
  },
  {
   "cell_type": "markdown",
   "id": "72c42e79-8f24-4548-bc83-51d8c2831ced",
   "metadata": {},
   "source": [
    "### Solução 2"
   ]
  },
  {
   "cell_type": "code",
   "execution_count": null,
   "id": "cfeb9bca-0413-44ad-b0f9-8ebef82e29ec",
   "metadata": {},
   "outputs": [],
   "source": []
  }
 ],
 "metadata": {
  "kernelspec": {
   "display_name": "Python 3 (ipykernel)",
   "language": "python",
   "name": "python3"
  },
  "language_info": {
   "codemirror_mode": {
    "name": "ipython",
    "version": 3
   },
   "file_extension": ".py",
   "mimetype": "text/x-python",
   "name": "python",
   "nbconvert_exporter": "python",
   "pygments_lexer": "ipython3",
   "version": "3.10.6"
  },
  "vscode": {
   "interpreter": {
    "hash": "916dbcbb3f70747c44a77c7bcd40155683ae19c65e1c03b4aa3499c5328201f1"
   }
  }
 },
 "nbformat": 4,
 "nbformat_minor": 5
}

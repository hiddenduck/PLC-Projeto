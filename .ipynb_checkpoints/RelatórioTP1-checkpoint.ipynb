{
 "cells": [
  {
   "cell_type": "markdown",
   "id": "fac41256-f5a7-4992-98ba-02d717c46be6",
   "metadata": {},
   "source": [
    "# Processamento de Linguagens e Compiladores\n",
    "\n",
    "## Licenciatura em Ciências da Computação\n",
    "\n",
    "## Trabalho Prático 1 - Relatório de Desenvolvimento\n",
    "\n",
    "André Lucena Ribas Ferreira (A94956)\n",
    "\n",
    "Carlos Eduardo da Silva Machado (A96936)\n",
    "\n",
    "Gonçalo Manuel Maia de Sousa (A97485)"
   ]
  },
  {
   "cell_type": "markdown",
   "id": "01107863-8d1b-4f1d-8983-fbe0d00199f6",
   "metadata": {},
   "source": [
    "## 1. Introdução\n",
    "\n",
    "### Resumo\n",
    "\n",
    "O presente Relatório tem como objetivo apresentar a nossa solução para o Trabalho Prático 1 da Unidade Curricular de Processamento de Linguagens e Compiladores. Especificamente, demonstramos a conceção de duas soluções para o Problema 5 \"Ficheiros CSV com listas e funções de agregação\", onde se procura converter um ficheiro do tipo CSV para JSON. A primeira solução utiliza reduzidamente o módulo *re*, suportando-se no Python e nas suas ferramentas, enquanto que a segunda procura maximizar o uso de expressões regulares e das funções desse mesmo módulo.\n",
    "\n",
    "### Estrutura\n",
    "\n",
    "Este documento está organizado em diversos capítulos, de acordo com o tema retratado. No Capítulo 1 introduz-se o relatório com um breve resumo. No Capítulo 2 analisa-se detalhadamente o problema em questão, especificando quais os requistos para uma solução adequada. No Capítulo 3 apresenta-se as 2 Soluções propostas para o problema. No Capítulo 4 conclui-se o trabalho com uma síntese e considerações finais."
   ]
  },
  {
   "cell_type": "markdown",
   "id": "62542d55-5cde-48eb-a0b0-5690632036cd",
   "metadata": {},
   "source": [
    "## 2. Especificação do Problema\n",
    "\n",
    "No Enunciado escolhido, pretende-se criar um conversor de ficheiros CSV (*Comma Separated Values*) para o formato JSON, utilizando o módulo *re* da linguagem de programação *python*.\n",
    "\n",
    "### Análise\n",
    "\n",
    "Para se resolver o problema, é necessário analisar a representação possível do ficheiro CSV e o seu significado. Notavelmente, este está contido na primeira linha, que funciona como cabeçalho e descreve cada uma das suas colunas. Para realizar a conversão corretamente, é necessário compreender cada uma das possibilidades, sempre com Título:\n",
    " 1. Coluna Simples (Apenas o Título);\n",
    " 2. Colunas com Listas (Tamanho Fixo ou Variável); \n",
    " 3. Colunas com Listas e Função de Agregação.\n",
    " \n",
    "O seguinte exemplo representa cada uma das possibilidades, por ordem:"
   ]
  },
  {
   "cell_type": "raw",
   "id": "17679dfb-af7c-4974-821b-73532fc9a7cd",
   "metadata": {},
   "source": [
    "Número,Nome{2},,,Notas{3,5}::sum,,,,,"
   ]
  },
  {
   "cell_type": "markdown",
   "id": "e4a772e7-fef2-4332-8346-9b0269cb8a38",
   "metadata": {},
   "source": [
    " 1. Os Títulos das Colunas Simples encontram-se separadas por uma só vírgula;\n",
    " 2. As Colunas com Lista têm o identificador do número de colunas da lista, possivelmente com valores máximos e mínimos: $\\{N,M\\}$. Para além disso, é necessário colocar vírgulas para os títulos das colunas abrangidos.\n",
    " 3. As Funções de Agregação aparecem depois do identificador do tamanho da lista, antes das vírgulas destinadas aos campos vazios, indicadas por $\\textbf{::}$.\n",
    "\n",
    "Cada uma das linhas seguintes do ficheiro CSV deve corresponder à organização definida:"
   ]
  },
  {
   "cell_type": "raw",
   "id": "31434b39-3940-4ae9-bba2-ffcc911b0b37",
   "metadata": {},
   "source": [
    "3162,Cândido,Faísca,12,13,14,,\n",
    "7777,Cristiano,Ronaldo,17,12,20,11,12\n",
    "264,Marcelo,Sousa,18,19,19,20,"
   ]
  },
  {
   "cell_type": "markdown",
   "id": "1c4c7719-88db-4b02-b3cf-1faac85dcfec",
   "metadata": {},
   "source": [
    "O resultado deve agrupar cada uma das listas num bloco de JSON:"
   ]
  },
  {
   "cell_type": "raw",
   "id": "0897c5e3-c2f8-4a39-b1bb-cdcdfb73d72b",
   "metadata": {},
   "source": [
    "[\n",
    "\t{\n",
    "\t\t\"Número\": \"3162\",\n",
    "\t\t\"Nome\": [Cândido,Faísca],\n",
    "\t\t\"Notas_sum\": 39\n",
    "\t},\n",
    "\t{\n",
    "\t\t\"Número\": \"7777\",\n",
    "\t\t\"Nome\": [Cristiano,Ronaldo],\n",
    "\t\t\"Notas_sum\": 72\n",
    "\t},\n",
    "\t{\n",
    "\t\t\"Número\": \"264\",\n",
    "\t\t\"Nome\": [Marcelo,Sousa],\n",
    "\t\t\"Notas_sum\": 76\n",
    "\t}\n",
    "]"
   ]
  },
  {
   "cell_type": "markdown",
   "id": "536e25d1-d846-4ead-91b6-9f420fd9f214",
   "metadata": {},
   "source": [
    " 1. Cada Coluna Simples deve apenas incluir o seu campo, entre aspas;\n",
    " 2. Cada Lista deve incluir os seus campos numa lista em JSON;\n",
    " 3. Cada Função de Agregação deve alterar o Título para marcar a sua identificação, colocando no JSON o resultado de aplicar a função à lista original."
   ]
  },
  {
   "cell_type": "markdown",
   "id": "bd90a6d5-db49-4c68-ae1a-4562f0519bcf",
   "metadata": {},
   "source": [
    "### Definição dos Requisitos\n",
    "\n",
    "Como Requisitos para as nossas soluções, consideramos necessário:\n",
    " 1. Identificar as características de cada coluna, através da primeira linha;\n",
    " 2. Manter um registo dessas características;\n",
    " 3. Identificar a quantidade de colunas;\n",
    " 4. Identificar os campos das restantes linhas, de acordo com a caracterização das colunas;\n",
    " 5. Construir o resultado JSON a partir desses campos."
   ]
  },
  {
   "cell_type": "markdown",
   "id": "46a2ae83-0e63-4a87-91d5-6cb565fd36d7",
   "metadata": {},
   "source": [
    "## 3. Resolução"
   ]
  },
  {
   "cell_type": "markdown",
   "id": "78b217fd",
   "metadata": {},
   "source": [
    "Para resolver o Problema de acordo com os Requisitos enunciados, as seguintes linhas de código são comuns para ambas as soluções. \n",
    "\n",
    "Utilizaremos o módulo 're', que oferece operações de matching de expressões regulares em python."
   ]
  },
  {
   "cell_type": "code",
   "execution_count": 1,
   "id": "151d388d",
   "metadata": {},
   "outputs": [],
   "source": [
    "import re\n",
    "from pprint import pprint"
   ]
  },
  {
   "cell_type": "markdown",
   "id": "1e6852d2",
   "metadata": {},
   "source": [
    "De seguida, obtemos o ficheiro de input do utilizador, do tipo CSV."
   ]
  },
  {
   "cell_type": "code",
   "execution_count": 2,
   "id": "7a930d61",
   "metadata": {},
   "outputs": [],
   "source": [
    "filename = 'teste1.csv'#input(\"introduza o ficheiro de input:\")\n",
    "input = open(filename, \"r\", encoding=\"utf-8\")"
   ]
  },
  {
   "cell_type": "markdown",
   "id": "e26a23ef",
   "metadata": {},
   "source": [
    "O primeiro passo de ambas as soluções é o de interpretar a primeira linha, de modo a conseguir uma caracterização das colunas que fazem parte do ficheiro. Para tal, construimos uma expressão regular que, com a utilização de grupos e da interação da função *findall* com esses mesmos grupos, nos devolve uma lista que define completamente cada uma das colunas.\n",
    "\n",
    "Mais precisamente, cada entrada da lista é um tuplo com 4 componentes, todas do tipo *string*. A presença dos três últimos é facultativa e indica se a coluna tem elemento mínimo, se forma uma lista e qual o seu elemento máximo, e se tem uma função aplicada.\n",
    " 1. Título; \n",
    " 2. Número mínimo de elementos da lista; \n",
    " 3. Número máximo de elementos da lista; \n",
    " 4. Função aplicada à lista.\n",
    "\n",
    "A expressão regular começa por definir uma palavra obrigatória **([^{,]+)** , capturada no primeiro grupo, que é o Título da coluna. Nesta parte, utiliza-se parênteses retos com acento circunflexo para denotar qualquer letra que não as especificadas, nomeadamente chaveta esquerda e vírgula, e depois um operador para repetir, pelo menos uma vez, essas letras.\n",
    "\n",
    "De seguida, definimos dois blocos facultativos, utilizando o operador **(?:)** para não capturar os grupos definidos pelos parênteses necessários para o operador **?** que os torna opcionais. O primeiro representa as listas, onde pelo menos um número é garantido, definido de tal modo a pertencer ao grupo 3, capturando no grupo 2 o valor mínimo se existente. O segundo representa a função, cuja designação encontra-se capturada no grupo 4."
   ]
  },
  {
   "cell_type": "code",
   "execution_count": 3,
   "id": "15e32745",
   "metadata": {},
   "outputs": [],
   "source": [
    "def constroi_colunas(input):\n",
    "    primeira = input.readline()[:-1]\n",
    "    colunas = re.findall(r'([^{,]+)(?:{(?:(\\d+),)?(\\d+)})?(?:::([^,]+))?', primeira)\n",
    "    return colunas"
   ]
  },
  {
   "cell_type": "code",
   "execution_count": 4,
   "id": "c88332a4-d05c-47aa-9680-92c54ee6f0f8",
   "metadata": {},
   "outputs": [
    {
     "name": "stdout",
     "output_type": "stream",
     "text": [
      "[('Aluno', '', '', ''),\n",
      " ('Número', '', '', ''),\n",
      " ('Disciplina', '', '', ''),\n",
      " ('Notas', '3', '5', 'max'),\n",
      " ('Faltas', '', '', '')]\n"
     ]
    }
   ],
   "source": [
    "colunas = constroi_colunas(input)\n",
    "pprint(colunas)"
   ]
  },
  {
   "cell_type": "markdown",
   "id": "ee3cdcc9-9f72-4913-bc2f-2e514b34cff1",
   "metadata": {},
   "source": [
    "Deste modo, podemos satisfazer aos requisitos $1$, $2$ e $3$."
   ]
  },
  {
   "cell_type": "markdown",
   "id": "3cd06bce-8177-445c-82b3-0c3b9c518c13",
   "metadata": {},
   "source": [
    "### Solução 1\n",
    "\n",
    "A primeira solução apenas utiliza a lista *colunas* para construir o resultado. Com ela, podemos percorrer cada linha, coluna a coluna, e construir progressivamente a nossa solução.\n",
    "\n",
    "Para cada linha, realizamos uma separação por vírgulas para conseguir cada campo, satisfazendo o requisito 4. Depois, dependendo da coluna, construímos a solução, satisfazendo o requisito 5."
   ]
  },
  {
   "cell_type": "code",
   "execution_count": 17,
   "id": "23cc6c8f-e800-495d-ad2a-deb9dfbeaeba",
   "metadata": {},
   "outputs": [],
   "source": [
    "def constroi_resultado_1(colunas, input):\n",
    "    res = '[\\n'\n",
    "    #0->título, 1->min, 2->max, 3->fun\n",
    "    for linha in input:\n",
    "        linha = re.sub(r'\\n$', r'', linha)\n",
    "        split = re.split(r',', linha)\n",
    "        r = 0 #ponto da lista split a ler\n",
    "        res += '\\t{\\n'\n",
    "        for i in range(len(colunas)):\n",
    "            if colunas[i][2] == '':\n",
    "                res += '\\t\\t\\\"%s\\\": \\\"%s\\\",\\n' % (colunas[i][0], split[r])\n",
    "                r += 1\n",
    "            else:\n",
    "                max = int(colunas[i][2])\n",
    "                lis = []\n",
    "                for l in range(max):\n",
    "                    if split[r] != '':\n",
    "                        lis.append((split[r]))\n",
    "                    r+=1\n",
    "                if colunas[i][3] == '':\n",
    "                    res+='\\t\\t\\\"%s\\\": %s,\\n' % (colunas[i][0], str(lis))\n",
    "                else:\n",
    "                    fun = eval(colunas[i][3])\n",
    "                    res+='\\t\\t\\\"%s_%s\\\": %s,\\n' % (colunas[i][0], colunas[i][3], str(fun(list(map(int,lis)))))\n",
    "        res = re.sub(r',\\n$', '\\n\\t},\\n', res) #res[:-2] + '\\n\\t},\\n'\n",
    "    res = re.sub(r',\\n$', '\\n]', res) #res[:-2] + '\\n]'\n",
    "    return res"
   ]
  },
  {
   "cell_type": "markdown",
   "id": "f4f8f518",
   "metadata": {},
   "source": [
    "### Solução 2"
   ]
  },
  {
   "cell_type": "markdown",
   "id": "cbb7bfa1-ff78-419e-9fe0-95b42051ec4a",
   "metadata": {},
   "source": [
    "A inspiração para a segunda solução vem da ideia de tentar \"codificar\" o significado de cada uma das colunas numa única expressão regular, de modo a evitar, no passo final da solução, enquanto se percorre cada uma das linhas, de também percorrer cada coluna isoladamente e continuamente endereçar a lista *colunas*. Esta solução é mais interessante, de um ponto de vista conceptual, por envolver uma maior complexidade de expressões regulares e por ser, subjetivamente, mais elegante.\n",
    "\n",
    "Esta codificação apresenta-se a partir de três expressões regulares, nomeadamente:\n",
    " 1. **patern**, que representa o padrão de identificação de cada uma das linhas. Este define a estrutura que cada linha deve seguir, servindo como validação, enquanto também captura grupos com os elementos necessários para a produção do resultado. Esta expressão regular serve como substituta à lista obtida pelo *findall* e satisfaz os requisitos 2 e 3. Para além disso, a sua utilização como padrão serve para satisfazer o requisito 4.\n",
    " 2. **replace**, que traduz a estrutura de saída do ficheiro JSON, para cada linha. Esta expressão regular utiliza os grupos que serão capturados pelo anterior, colocando os Títulos prontos para o ficheiro de saída. No entanto, esta expressão regular não efetua o cálculo das funções, por ainda não se as conhecer. Ao invés disso, coloca na solução uma string com a função pronta a ser invocada com a função *eval* do *python*.\n",
    " 3. **fun_str**, que guarda, numa alternativa, todas as funções encontradas nas colunas do ficheiro CSV. No final, depois de se invocar o *sub* que troca *patern* por *replace*, é necessário substituir todas estas funções pela sua avaliação, tomando quaisquer parâmetros necessários, devidamente colocados por *replace*. Assim, estas duas expressões servem para satisfazer o requisito 5.\n",
    "\n",
    "Estas expressões regulares são construídas iterativamente a partir de fragmentos, estes escolhidos dependendo da caracterização da coluna correspondente. Os fragmentos de *patern* são dois, nomeadamente:\n",
    " 1. **([^\\n,]+),**: Fragmento de uma Coluna Simples. Nele, capturam-se palavras sem vírgulas nem *newline*.\n",
    " 2. **([^\\n,]+(?:,[^\\n,]+){%d,%d}),{0,%d},**: Fragmento de Lista\n",
    " \n",
    "Os fragmentos da expressão regular *replace* são os da sintaxe do ficheiro JSON, dependendo do formato da coluna. Notavelmente, se a lista tiver número mínimo de elementos igual a 0, é necessário ser capaz de não encontrar elementos.\n",
    "\n",
    "Segundo a documentação do módulo *re*, o número máximo de grupos que cada objeto do tipo *Match* consegue guardar é 99. Isto limita a solução a ter, no máximo, 99 colunas, devido à utilização de grupos consecutivos na expressão *patern*."
   ]
  },
  {
   "cell_type": "markdown",
   "id": "058aa067",
   "metadata": {},
   "source": [
    "O seguinte ciclo percorre cada uma das colunas e constrói, iterativamente, cada uma das expressões regulares explicadas anteriormente. \n",
    "\n",
    "Notavelmente, o caso de não haver valor mínimo de elementos da lista, considera-se que o valor mínimo é igual ao máximo, de modo a ter um fragmento de *patern* único para ambos os casos."
   ]
  },
  {
   "cell_type": "code",
   "execution_count": 6,
   "id": "6b3c6191",
   "metadata": {},
   "outputs": [],
   "source": [
    "def constroi_re_2(colunas):\n",
    "    patern = fun_str = r''\n",
    "    replace = '\\t{\\n'\n",
    "    #colunas: 0 -> título; 1->min; 2->max/único; 3->função\n",
    "    for i,coluna in enumerate(colunas, start=1):\n",
    "        if coluna[2] == '': #coluna simples\n",
    "            patern += r'([^\\n,]+),'    \n",
    "            replace += '\\t\\t\"%s\": \"\\%d\",\\n' % (coluna[0],i)\n",
    "        else: #listas\n",
    "            max = int(coluna[2])\n",
    "            min = max if coluna[1] == '' else int(coluna[1])\n",
    "            #caso em que o min == 0 precisa de funcionar como ?\n",
    "            patern += r'((?:[^\\n,]+){%d,1}(?:,[^\\n,]+){%d,%d}),{0,%d},' % (int(min!=0), min-1 if min!=0 else 0, max-1, max - min)\n",
    "            if coluna[3] != '': #Função\n",
    "                fun_str += r'%s|' % (coluna[3])\n",
    "                replace += '\\t\\t\"%s_%s\": %s([\\%d]),\\n' % (coluna[0],coluna[3],coluna[3],i)\n",
    "            else: \n",
    "                replace += '\\t\\t\"%s\": [\\%d],\\n' % (coluna[0],i)\n",
    "\n",
    "    patern = re.sub(r',$', r'\\\\s*', patern) \n",
    "    replace = re.sub(r',\\n$', '\\n\\t},\\n', replace) #replace = replace[:-2] + '\\n\\t},\\n'\n",
    "    fun_str = fun_str[:-1]\n",
    "    return (patern,replace,fun_str)"
   ]
  },
  {
   "cell_type": "code",
   "execution_count": 7,
   "id": "92bc42f7-16b4-4abc-a696-e72af71959b5",
   "metadata": {},
   "outputs": [
    {
     "name": "stdout",
     "output_type": "stream",
     "text": [
      "([^\\n,]+),([^\\n,]+),([^\\n,]+),((?:[^\\n,]+){1,1}(?:,[^\\n,]+){2,4}),{0,2},([^\\n,]+)\\s*\n"
     ]
    }
   ],
   "source": [
    "patern, replace, fun_str = constroi_re_2(colunas)\n",
    "\n",
    "print(patern)"
   ]
  },
  {
   "cell_type": "markdown",
   "id": "29f10923-2923-456c-bfd5-f33f861b7994",
   "metadata": {},
   "source": [
    "A expressão regular *replace* não coloca os parênteses retos necessários para o ficheiro JSON, por ser uma caracterização de cada uma das linhas e não do ficheiro inteiro."
   ]
  },
  {
   "cell_type": "code",
   "execution_count": 8,
   "id": "4b3fbad6-3112-4f5c-98b2-5b30ce7ca778",
   "metadata": {},
   "outputs": [
    {
     "name": "stdout",
     "output_type": "stream",
     "text": [
      "\t{\n",
      "\t\t\"Aluno\": \"\\1\",\n",
      "\t\t\"Número\": \"\\2\",\n",
      "\t\t\"Disciplina\": \"\\3\",\n",
      "\t\t\"Notas_max\": max([\\4]),\n",
      "\t\t\"Faltas\": \"\\5\"\n",
      "\t},\n",
      "\n"
     ]
    }
   ],
   "source": [
    "print(replace)"
   ]
  },
  {
   "cell_type": "code",
   "execution_count": 9,
   "id": "8e923fe3-ecb4-42a0-9cf9-267f5a1c53ed",
   "metadata": {},
   "outputs": [
    {
     "name": "stdout",
     "output_type": "stream",
     "text": [
      "max\n"
     ]
    }
   ],
   "source": [
    "print(fun_str)"
   ]
  },
  {
   "cell_type": "markdown",
   "id": "7196a4df-2255-4516-ae9e-aa3efa2c6046",
   "metadata": {},
   "source": [
    "Para terminar, o resultado é construído linha a linha através de um simples *sub*, suportado pelas expressões regulares montadas anteriormente. Para terminar, um último *sub* substitui todas as instâncias de uma função pela sua avaliação e subsequente resultado."
   ]
  },
  {
   "cell_type": "code",
   "execution_count": 10,
   "id": "21d0acc7",
   "metadata": {},
   "outputs": [],
   "source": [
    "def constroi_resultado_2(input, patern, replace, fun_str):\n",
    "    res = '[\\n'\n",
    "    for linha in input:\n",
    "        #linha = linha[:-1]\n",
    "        #print(linha)\n",
    "        res += re.sub(patern,replace,linha)\n",
    "    res = re.sub(r'_(%s)\": ((?:\\1)\\(.*\\))'%(fun_str), lambda x: '_%s\": %s' % (x.group(1), str(eval(x.group(2)))), res)\n",
    "    res = re.sub(r',\\n$', '\\n]', res)#res = res[:-2] + \"\\n]\"\n",
    "    return res"
   ]
  },
  {
   "cell_type": "markdown",
   "id": "350ad137-dc18-4ce0-9da0-ef4e491fd3b5",
   "metadata": {},
   "source": [
    "### Testes\n",
    "\n"
   ]
  },
  {
   "cell_type": "code",
   "execution_count": 18,
   "id": "4ae73718-2d80-43c8-a45a-7efd6355cda7",
   "metadata": {},
   "outputs": [
    {
     "name": "stdout",
     "output_type": "stream",
     "text": [
      "[('Aluno', '', '', ''), ('Número', '', '', ''), ('Disciplina', '', '', ''), ('Notas', '3', '5', 'max'), ('Faltas', '', '', '')]\n",
      "max\n",
      "5\n",
      "5\n",
      "max\n"
     ]
    },
    {
     "ename": "TypeError",
     "evalue": "'int' object is not callable",
     "output_type": "error",
     "traceback": [
      "\u001b[1;31m---------------------------------------------------------------------------\u001b[0m",
      "\u001b[1;31mTypeError\u001b[0m                                 Traceback (most recent call last)",
      "Input \u001b[1;32mIn [18]\u001b[0m, in \u001b[0;36m<cell line: 4>\u001b[1;34m()\u001b[0m\n\u001b[0;32m      2\u001b[0m colunas \u001b[38;5;241m=\u001b[39m constroi_colunas(input1)\n\u001b[0;32m      3\u001b[0m \u001b[38;5;28mprint\u001b[39m(colunas)\n\u001b[1;32m----> 4\u001b[0m res1 \u001b[38;5;241m=\u001b[39m \u001b[43mconstroi_resultado_1\u001b[49m\u001b[43m(\u001b[49m\u001b[43mcolunas\u001b[49m\u001b[43m,\u001b[49m\u001b[43m \u001b[49m\u001b[43minput1\u001b[49m\u001b[43m)\u001b[49m\n\u001b[0;32m      5\u001b[0m input1\u001b[38;5;241m.\u001b[39mclose()\n\u001b[0;32m      6\u001b[0m \u001b[38;5;66;03m#print(res1)\u001b[39;00m\n",
      "Input \u001b[1;32mIn [17]\u001b[0m, in \u001b[0;36mconstroi_resultado_1\u001b[1;34m(colunas, input)\u001b[0m\n\u001b[0;32m     26\u001b[0m                 \u001b[38;5;28mprint\u001b[39m(fun)\n\u001b[0;32m     27\u001b[0m                 \u001b[38;5;28mprint\u001b[39m(colunas[i][\u001b[38;5;241m3\u001b[39m])\n\u001b[1;32m---> 28\u001b[0m                 res\u001b[38;5;241m+\u001b[39m\u001b[38;5;241m=\u001b[39m\u001b[38;5;124m'\u001b[39m\u001b[38;5;130;01m\\t\u001b[39;00m\u001b[38;5;130;01m\\t\u001b[39;00m\u001b[38;5;130;01m\\\"\u001b[39;00m\u001b[38;5;132;01m%s\u001b[39;00m\u001b[38;5;124m_\u001b[39m\u001b[38;5;132;01m%s\u001b[39;00m\u001b[38;5;130;01m\\\"\u001b[39;00m\u001b[38;5;124m: \u001b[39m\u001b[38;5;132;01m%s\u001b[39;00m\u001b[38;5;124m,\u001b[39m\u001b[38;5;130;01m\\n\u001b[39;00m\u001b[38;5;124m'\u001b[39m \u001b[38;5;241m%\u001b[39m (colunas[i][\u001b[38;5;241m0\u001b[39m], colunas[i][\u001b[38;5;241m3\u001b[39m], \u001b[38;5;28mstr\u001b[39m(\u001b[43mfun\u001b[49m\u001b[43m(\u001b[49m\u001b[38;5;28;43mlist\u001b[39;49m\u001b[43m(\u001b[49m\u001b[38;5;28;43mmap\u001b[39;49m\u001b[43m(\u001b[49m\u001b[38;5;28;43mint\u001b[39;49m\u001b[43m,\u001b[49m\u001b[43mlis\u001b[49m\u001b[43m)\u001b[49m\u001b[43m)\u001b[49m\u001b[43m)\u001b[49m))\n\u001b[0;32m     29\u001b[0m     res \u001b[38;5;241m=\u001b[39m re\u001b[38;5;241m.\u001b[39msub(\u001b[38;5;124mr\u001b[39m\u001b[38;5;124m'\u001b[39m\u001b[38;5;124m,\u001b[39m\u001b[38;5;124m\\\u001b[39m\u001b[38;5;124mn$\u001b[39m\u001b[38;5;124m'\u001b[39m, \u001b[38;5;124m'\u001b[39m\u001b[38;5;130;01m\\n\u001b[39;00m\u001b[38;5;130;01m\\t\u001b[39;00m\u001b[38;5;124m},\u001b[39m\u001b[38;5;130;01m\\n\u001b[39;00m\u001b[38;5;124m'\u001b[39m, res) \u001b[38;5;66;03m#res[:-2] + '\\n\\t},\\n'\u001b[39;00m\n\u001b[0;32m     30\u001b[0m res \u001b[38;5;241m=\u001b[39m re\u001b[38;5;241m.\u001b[39msub(\u001b[38;5;124mr\u001b[39m\u001b[38;5;124m'\u001b[39m\u001b[38;5;124m,\u001b[39m\u001b[38;5;124m\\\u001b[39m\u001b[38;5;124mn$\u001b[39m\u001b[38;5;124m'\u001b[39m, \u001b[38;5;124m'\u001b[39m\u001b[38;5;130;01m\\n\u001b[39;00m\u001b[38;5;124m]\u001b[39m\u001b[38;5;124m'\u001b[39m, res) \u001b[38;5;66;03m#res[:-2] + '\\n]'\u001b[39;00m\n",
      "\u001b[1;31mTypeError\u001b[0m: 'int' object is not callable"
     ]
    }
   ],
   "source": [
    "input1 = open('teste1.csv', \"r\", encoding=\"utf-8\")\n",
    "colunas = constroi_colunas(input1)\n",
    "print(colunas)\n",
    "res1 = constroi_resultado_1(colunas, input1)\n",
    "input1.close()\n",
    "#print(res1)\n",
    "\n",
    "input1 = open('teste1.csv', \"r\", encoding=\"utf-8\")\n",
    "colunas = constroi_colunas(input1)\n",
    "(patern1,replace1,fun_str1) = constroi_re_2(colunas)\n",
    "res2 = constroi_resultado_2(input1,patern1,replace1,fun_str1) \n",
    "print(res2)\n",
    "input1.close()\n",
    "\n",
    "print(f\"As duas soluções são iguais? Resposta: %s.\" % (res1 == res2))"
   ]
  },
  {
   "cell_type": "markdown",
   "id": "35918b20-3062-4ca5-9478-5ab87f24e90a",
   "metadata": {},
   "source": [
    "Apenas demonstramos os seguintes testes realizados sobre a Solução 2 já que a 1ª não está desenhada para Listas com Strings."
   ]
  },
  {
   "cell_type": "code",
   "execution_count": 12,
   "id": "32ca1954-9092-4197-880e-3e976b4ba494",
   "metadata": {},
   "outputs": [
    {
     "name": "stdout",
     "output_type": "stream",
     "text": [
      "[\n",
      "\t{\n",
      "\t\t\"Personagens\": ['Anjo','Diabo','Joane'],\n",
      "\t\t\"Cenários\": ['Barca do Infero','A Outra Barca','Fila','Mar','Praia'],\n",
      "\t\t\"Adereços\": ['Espadas','Sapatos','Cabra','Capacete'],\n",
      "\t\t\"Atos\": [1,2,3]\n",
      "\t},\n",
      "\t{\n",
      "\t\t\"Personagens\": ['Carlos da Maia','Maria Eduarda','Pedro da Maia'],\n",
      "\t\t\"Cenários\": ['O Ramalhete','A Toca','Consultório do Carlos','Vila Balsac'],\n",
      "\t\t\"Adereços\": ['Vénus Citereia','Cascatazinha','Cipreste e Cedro'],\n",
      "\t\t\"Atos\": [10,15,20]\n",
      "\t},\n",
      "\t{\n",
      "\t\t\"Personagens\": ['Blimunda','Baltasar Mateus','D.João V'],\n",
      "\t\t\"Cenários\": ['Convento de Mafra','Passarola','Oficina','Terreiro do Paço'],\n",
      "\t\t\"Adereços\": [],\n",
      "\t\t\"Atos\": [50,99,3]\n",
      "\t},\n",
      "\t{\n",
      "\t\t\"Personagens\": ['Vasco da Gama','Marte','Vénus'],\n",
      "\t\t\"Cenários\": ['Olimpo','Torre de Belem','India'],\n",
      "\t\t\"Adereços\": ['Bússola'],\n",
      "\t\t\"Atos\": [44,55,66]\n",
      "\t}\n",
      "]\n"
     ]
    },
    {
     "ename": "NameError",
     "evalue": "name 'res1' is not defined",
     "output_type": "error",
     "traceback": [
      "\u001b[1;31m---------------------------------------------------------------------------\u001b[0m",
      "\u001b[1;31mNameError\u001b[0m                                 Traceback (most recent call last)",
      "Input \u001b[1;32mIn [12]\u001b[0m, in \u001b[0;36m<cell line: 8>\u001b[1;34m()\u001b[0m\n\u001b[0;32m      5\u001b[0m \u001b[38;5;28mprint\u001b[39m(res2)\n\u001b[0;32m      6\u001b[0m input1\u001b[38;5;241m.\u001b[39mclose()\n\u001b[1;32m----> 8\u001b[0m \u001b[38;5;28mprint\u001b[39m(\u001b[38;5;124mf\u001b[39m\u001b[38;5;124m\"\u001b[39m\u001b[38;5;124mAs duas soluções são iguais? Resposta: %s.\u001b[39m\u001b[38;5;124m\"\u001b[39m \u001b[38;5;241m%\u001b[39m (\u001b[43mres1\u001b[49m \u001b[38;5;241m==\u001b[39m res2))\n",
      "\u001b[1;31mNameError\u001b[0m: name 'res1' is not defined"
     ]
    }
   ],
   "source": [
    "input1 = open('teste2p.csv', \"r\", encoding=\"utf-8\")\n",
    "colunas = constroi_colunas(input1)\n",
    "(patern1,replace1,fun_str1) = constroi_re_2(colunas)\n",
    "res2 = constroi_resultado_2(input1,patern1,replace1,fun_str1) \n",
    "print(res2)\n",
    "input1.close()"
   ]
  },
  {
   "cell_type": "code",
   "execution_count": 13,
   "id": "c2580ef6-3140-430f-b422-130a22421f62",
   "metadata": {},
   "outputs": [
    {
     "name": "stdout",
     "output_type": "stream",
     "text": [
      "[\n",
      "\t{\n",
      "\t\t\"Kilometros_sum\": 150,\n",
      "\t\t\"Motos_sorted\": ['Morini X-Cape', 'Voge 300 Rally'],\n",
      "\t\t\"Carros_len\": 1,\n",
      "\t\t\"Biciclos\": [\"BICICLETA 500 UNICÓRNIO\"]\n",
      "\t},\n",
      "\t{\n",
      "\t\t\"Kilometros_sum\": 420,\n",
      "\t\t\"Motos_sorted\": ['BMW R 18', 'Casal K186 Phantom 5', 'Famel E-XF'],\n",
      "\t\t\"Carros_len\": 3,\n",
      "\t\t\"Biciclos\": [\"BMX WIPE 500\",\"BTT\"]\n",
      "\t},\n",
      "\t{\n",
      "\t\t\"Kilometros_sum\": 130,\n",
      "\t\t\"Motos_sorted\": ['Benelli Leoncino 500', 'Kymco AK 550', 'Vespa GTS 300,BMW C 400 X'],\n",
      "\t\t\"Carros_len\": 0,\n",
      "\t\t\"Biciclos\": [\"BTT ALL Mountain\"]\n",
      "\t}\n",
      "]\n"
     ]
    }
   ],
   "source": [
    "input1 = open('teste3p.csv', \"r\", encoding=\"utf-8\")\n",
    "colunas = constroi_colunas(input1)\n",
    "(patern1,replace1,fun_str1) = constroi_re_2(colunas)\n",
    "res2 = constroi_resultado_2(input1,patern1,replace1,fun_str1) \n",
    "print(res2)\n",
    "input1.close()"
   ]
  },
  {
   "cell_type": "code",
   "execution_count": 14,
   "id": "e8b32688-455d-4723-ab7c-4bf77dbd9814",
   "metadata": {},
   "outputs": [
    {
     "name": "stdout",
     "output_type": "stream",
     "text": [
      "[\n",
      "\t{\n",
      "\t\t\"Pessoas\": [André,Carlos,Gonçalo],\n",
      "\t\t\"Fruta\": \"Maça\",\n",
      "\t\t\"Animais\": [Cão,Gato],\n",
      "\t\t\"Lanche_len\": 4,\n",
      "\t\t\"Probabilidade\": \"0.5\",\n",
      "\t\t\"Trofeus_sorted\": []\n",
      "\t},\n",
      "\t{\n",
      "\t\t\"Pessoas\": [Amor Martim,Eugénio Isidora],\n",
      "\t\t\"Fruta\": \"Banana\",\n",
      "\t\t\"Animais\": [Aye-aye,tardígrado],\n",
      "\t\t\"Lanche_len\": 4,\n",
      "\t\t\"Probabilidade\": \"0.1\",\n",
      "\t\t\"Trofeus_sorted\": ['Darwin Award', 'Nobel da Paz']\n",
      "\t},\n",
      "\t{\n",
      "\t\t\"Pessoas\": [Horácio Cipriano],\n",
      "\t\t\"Fruta\": \"Pitaia\",\n",
      "\t\t\"Animais\": [Lova-a-deus,Bicho-da-seda],\n",
      "\t\t\"Lanche_len\": 4,\n",
      "\t\t\"Probabilidade\": \"0\",\n",
      "\t\t\"Trofeus_sorted\": ['Bola de Ouro']\n",
      "\t},\n",
      "\t{\n",
      "\t\t\"Pessoas\": [Urban Niclas,Patrik Barbro,Utônio],\n",
      "\t\t\"Fruta\": \"Pepino\",\n",
      "\t\t\"Animais\": [Coelacanth,T-Rex],\n",
      "\t\t\"Lanche_len\": 4,\n",
      "\t\t\"Probabilidade\": \"0.99\",\n",
      "\t\t\"Trofeus_sorted\": ['IgNobel', 'Turing Award']\n",
      "\t}\n",
      "]\n"
     ]
    }
   ],
   "source": [
    "input1 = open('teste4p.csv', \"r\", encoding=\"utf-8\")\n",
    "colunas = constroi_colunas(input1)\n",
    "(patern1,replace1,fun_str1) = constroi_re_2(colunas)\n",
    "res2 = constroi_resultado_2(input1,patern1,replace1,fun_str1) \n",
    "print(res2)\n",
    "input1.close()"
   ]
  },
  {
   "cell_type": "markdown",
   "id": "0d53a10f-d598-4b8a-b04b-ecf6a097c217",
   "metadata": {},
   "source": [
    "## 4. Conclusão"
   ]
  },
  {
   "cell_type": "markdown",
   "id": "f3140c75-1555-41ba-a4c4-f5d541fe5c32",
   "metadata": {},
   "source": []
  }
 ],
 "metadata": {
  "kernelspec": {
   "display_name": "Python 3 (ipykernel)",
   "language": "python",
   "name": "python3"
  },
  "language_info": {
   "codemirror_mode": {
    "name": "ipython",
    "version": 3
   },
   "file_extension": ".py",
   "mimetype": "text/x-python",
   "name": "python",
   "nbconvert_exporter": "python",
   "pygments_lexer": "ipython3",
   "version": "3.10.4"
  },
  "vscode": {
   "interpreter": {
    "hash": "916dbcbb3f70747c44a77c7bcd40155683ae19c65e1c03b4aa3499c5328201f1"
   }
  }
 },
 "nbformat": 4,
 "nbformat_minor": 5
}

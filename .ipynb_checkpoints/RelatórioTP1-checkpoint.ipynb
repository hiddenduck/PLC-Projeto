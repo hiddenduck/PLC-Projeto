{
 "cells": [
  {
   "cell_type": "markdown",
   "id": "fac41256-f5a7-4992-98ba-02d717c46be6",
   "metadata": {},
   "source": [
    "Let'sa GO!\n",
    "# Processamento de Linguagens e Compiladores\n",
    "## Trabalho Prático 1 - Relatório\n",
    "\n",
    "André Lucena Ribas Ferreira (A94956)\n",
    "\n",
    "Carlos Edurdo da Silva Machado (A96936)\n",
    "\n",
    "Gonçalo Manuel Maia de Sousa (A97485)"
   ]
  },
  {
   "cell_type": "markdown",
   "id": "78b217fd",
   "metadata": {},
   "source": [
    "Utilizaremos o módulo 're' que oferece operações de matching de expressões regulares em python."
   ]
  },
  {
   "cell_type": "code",
   "execution_count": 1,
   "id": "151d388d",
   "metadata": {},
   "outputs": [],
   "source": [
    "import re"
   ]
  },
  {
   "cell_type": "markdown",
   "id": "dc660601",
   "metadata": {},
   "source": []
  },
  {
   "cell_type": "code",
   "execution_count": 2,
   "id": "7a930d61",
   "metadata": {},
   "outputs": [],
   "source": [
    "filename = \"teste1.csv\"\n",
    "input = open(filename, \"r\", encoding=\"utf-8\")"
   ]
  },
  {
   "cell_type": "markdown",
   "id": "e26a23ef",
   "metadata": {},
   "source": []
  },
  {
   "cell_type": "code",
   "execution_count": 3,
   "id": "15e32745",
   "metadata": {},
   "outputs": [],
   "source": [
    "primeira = input.readline()[:-1]\n",
    "colunas = re.findall(r'(?<![^,])([^{^,]+)(?:{(\\d+)(?:,(\\d+))?})?(?:::([^,]+))?', primeira)"
   ]
  },
  {
   "cell_type": "markdown",
   "id": "f4f8f518",
   "metadata": {},
   "source": []
  },
  {
   "cell_type": "code",
   "execution_count": 4,
   "id": "95ad34a0",
   "metadata": {},
   "outputs": [],
   "source": [
    "patern = r''\n",
    "replace = '\\t{\\n'\n",
    "fun_str = r''"
   ]
  },
  {
   "cell_type": "markdown",
   "id": "058aa067",
   "metadata": {},
   "source": []
  },
  {
   "cell_type": "code",
   "execution_count": 5,
   "id": "6b3c6191",
   "metadata": {},
   "outputs": [],
   "source": [
    "i = 1\n",
    "#colunas: 0 -> título; 1->min/único; 2->max; 3->função\n",
    "for coluna in colunas:\n",
    "    if coluna[1] == '':\n",
    "        patern += r'([^{,]+),'    \n",
    "        replace += '\\t\\t\"%s\": \"\\%d\",\\n' % (coluna[0],i)\n",
    "    else:\n",
    "        min = int(coluna[1])\n",
    "        max = min\n",
    "        if coluna[2] != '':\n",
    "            max = int(coluna[2])\n",
    "        patern += r'([^,]+(?:,[^,]+){%d,%d}),{0,%d},' % (min-1, max-1, max - min)\n",
    "        if coluna[3] != '':\n",
    "            fun_str += r'%s|' % (coluna[3])\n",
    "            replace += '\\t\\t\"%s_%s\": %s([\\%d]),\\n' % (coluna[0],coluna[3],coluna[3],i)\n",
    "        else:\n",
    "            replace += '\\t\\t\"%s\": [\\%d],\\n' % (coluna[0],i)\n",
    "    i += 1"
   ]
  },
  {
   "cell_type": "markdown",
   "id": "6dee8a88",
   "metadata": {},
   "source": []
  },
  {
   "cell_type": "code",
   "execution_count": 6,
   "id": "89de5435",
   "metadata": {},
   "outputs": [],
   "source": [
    "patern = patern[:-1]\n",
    "replace = replace [:-2] + \"\\n\\t},\\n\"\n",
    "fun_str = fun_str[:-1]"
   ]
  },
  {
   "cell_type": "markdown",
   "id": "4287a5cc",
   "metadata": {},
   "source": []
  },
  {
   "cell_type": "code",
   "execution_count": 7,
   "id": "21d0acc7",
   "metadata": {},
   "outputs": [],
   "source": [
    "res = '[\\n'\n",
    "for linha in input:\n",
    "    linha = linha[:-1]\n",
    "    #print(linha)\n",
    "    res += re.sub(patern,replace,linha)\n",
    "\n",
    "res = re.sub(r'(((?:%s))\\(.*\\))'%(fun_str), lambda x: str(eval(x.group(1))),res)\n",
    "res = res[:-2] + \"\\n]\""
   ]
  },
  {
   "cell_type": "markdown",
   "id": "3e4b07c5",
   "metadata": {},
   "source": []
  },
  {
   "cell_type": "code",
   "execution_count": 8,
   "id": "b4158bfb",
   "metadata": {},
   "outputs": [
    {
     "name": "stdout",
     "output_type": "stream",
     "text": [
      "[\n",
      "\t{\n",
      "\t\t\"Número\": \"3162\",\n",
      "\t\t\"Nome\": \"Cândido Faísca\",\n",
      "\t\t\"Curso\": \"Teatro\",\n",
      "\t\t\"Notas_sum\": 50,\n",
      "\t\t\"Pokemon\": \"Giratina\",\n",
      "\t\t\"ListaSadakaNoFun\": [1,2]\n",
      "\t},\n",
      "\t{\n",
      "\t\t\"Número\": \"7777\",\n",
      "\t\t\"Nome\": \"Cristiano Ronaldo\",\n",
      "\t\t\"Curso\": \"Desporto\",\n",
      "\t\t\"Notas_sum\": 46,\n",
      "\t\t\"Pokemon\": \"Garbodor\",\n",
      "\t\t\"ListaSadakaNoFun\": [3,4,5]\n",
      "\t},\n",
      "\t{\n",
      "\t\t\"Número\": \"264\",\n",
      "\t\t\"Nome\": \"Marcelo Sousa\",\n",
      "\t\t\"Curso\": \"Ciência Política\",\n",
      "\t\t\"Notas_sum\": 20,\n",
      "\t\t\"Pokemon\": \"Vanilux\",\n",
      "\t\t\"ListaSadakaNoFun\": [5,6,2]\n",
      "\t}\n",
      "]\n"
     ]
    }
   ],
   "source": [
    "input.close()\n",
    "\n",
    "filename = re.sub(r'csv',r'json',filename)\n",
    "\n",
    "output = open(filename, 'w', encoding=\"utf-8\")\n",
    "#print(res) remover depois ou não \n",
    "output.write(res)\n",
    "output.close()"
   ]
  },
  {
   "cell_type": "code",
   "execution_count": null,
   "id": "8dd9646e-4860-4fff-900e-8cf4fdd6ec74",
   "metadata": {},
   "outputs": [],
   "source": []
  }
 ],
 "metadata": {
  "kernelspec": {
   "display_name": "Python 3 (ipykernel)",
   "language": "python",
   "name": "python3"
  },
  "language_info": {
   "codemirror_mode": {
    "name": "ipython",
    "version": 3
   },
   "file_extension": ".py",
   "mimetype": "text/x-python",
   "name": "python",
   "nbconvert_exporter": "python",
   "pygments_lexer": "ipython3",
   "version": "3.9.13"
  },
  "vscode": {
   "interpreter": {
    "hash": "b479ec4dba05c3208cfbae3290a88a491a58540c469d9066f3d2b462184185ca"
   }
  }
 },
 "nbformat": 4,
 "nbformat_minor": 5
}
